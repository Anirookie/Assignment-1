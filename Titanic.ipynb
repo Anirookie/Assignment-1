{
 "cells": [
  {
   "cell_type": "code",
   "execution_count": 1,
   "id": "d00eba1e",
   "metadata": {},
   "outputs": [],
   "source": [
    "import numpy as np\n",
    "import pandas as pd\n",
    "from pandas import Series, DataFrame\n",
    "\n",
    "import matplotlib.pyplot as plt\n",
    "import seaborn as sns\n",
    "\n",
    "import warnings\n",
    "warnings.filterwarnings('ignore')"
   ]
  },
  {
   "cell_type": "markdown",
   "id": "a11626fe",
   "metadata": {},
   "source": [
    "# 1. Load the dataset into python environment"
   ]
  },
  {
   "cell_type": "code",
   "execution_count": 2,
   "id": "6a67bc87",
   "metadata": {},
   "outputs": [
    {
     "data": {
      "text/html": [
       "<div>\n",
       "<style scoped>\n",
       "    .dataframe tbody tr th:only-of-type {\n",
       "        vertical-align: middle;\n",
       "    }\n",
       "\n",
       "    .dataframe tbody tr th {\n",
       "        vertical-align: top;\n",
       "    }\n",
       "\n",
       "    .dataframe thead th {\n",
       "        text-align: right;\n",
       "    }\n",
       "</style>\n",
       "<table border=\"1\" class=\"dataframe\">\n",
       "  <thead>\n",
       "    <tr style=\"text-align: right;\">\n",
       "      <th></th>\n",
       "      <th>PassengerId</th>\n",
       "      <th>Survived</th>\n",
       "      <th>Pclass</th>\n",
       "      <th>Name</th>\n",
       "      <th>Sex</th>\n",
       "      <th>Age</th>\n",
       "      <th>SibSp</th>\n",
       "      <th>Parch</th>\n",
       "      <th>Ticket</th>\n",
       "      <th>Fare</th>\n",
       "      <th>Cabin</th>\n",
       "      <th>Embarked</th>\n",
       "    </tr>\n",
       "  </thead>\n",
       "  <tbody>\n",
       "    <tr>\n",
       "      <th>0</th>\n",
       "      <td>1</td>\n",
       "      <td>0</td>\n",
       "      <td>3</td>\n",
       "      <td>Braund, Mr. Owen Harris</td>\n",
       "      <td>male</td>\n",
       "      <td>22.0</td>\n",
       "      <td>1</td>\n",
       "      <td>0</td>\n",
       "      <td>A/5 21171</td>\n",
       "      <td>7.2500</td>\n",
       "      <td>NaN</td>\n",
       "      <td>S</td>\n",
       "    </tr>\n",
       "    <tr>\n",
       "      <th>1</th>\n",
       "      <td>2</td>\n",
       "      <td>1</td>\n",
       "      <td>1</td>\n",
       "      <td>Cumings, Mrs. John Bradley (Florence Briggs Th...</td>\n",
       "      <td>female</td>\n",
       "      <td>38.0</td>\n",
       "      <td>1</td>\n",
       "      <td>0</td>\n",
       "      <td>PC 17599</td>\n",
       "      <td>71.2833</td>\n",
       "      <td>C85</td>\n",
       "      <td>C</td>\n",
       "    </tr>\n",
       "    <tr>\n",
       "      <th>2</th>\n",
       "      <td>3</td>\n",
       "      <td>1</td>\n",
       "      <td>3</td>\n",
       "      <td>Heikkinen, Miss. Laina</td>\n",
       "      <td>female</td>\n",
       "      <td>26.0</td>\n",
       "      <td>0</td>\n",
       "      <td>0</td>\n",
       "      <td>STON/O2. 3101282</td>\n",
       "      <td>7.9250</td>\n",
       "      <td>NaN</td>\n",
       "      <td>S</td>\n",
       "    </tr>\n",
       "    <tr>\n",
       "      <th>3</th>\n",
       "      <td>4</td>\n",
       "      <td>1</td>\n",
       "      <td>1</td>\n",
       "      <td>Futrelle, Mrs. Jacques Heath (Lily May Peel)</td>\n",
       "      <td>female</td>\n",
       "      <td>35.0</td>\n",
       "      <td>1</td>\n",
       "      <td>0</td>\n",
       "      <td>113803</td>\n",
       "      <td>53.1000</td>\n",
       "      <td>C123</td>\n",
       "      <td>S</td>\n",
       "    </tr>\n",
       "    <tr>\n",
       "      <th>4</th>\n",
       "      <td>5</td>\n",
       "      <td>0</td>\n",
       "      <td>3</td>\n",
       "      <td>Allen, Mr. William Henry</td>\n",
       "      <td>male</td>\n",
       "      <td>35.0</td>\n",
       "      <td>0</td>\n",
       "      <td>0</td>\n",
       "      <td>373450</td>\n",
       "      <td>8.0500</td>\n",
       "      <td>NaN</td>\n",
       "      <td>S</td>\n",
       "    </tr>\n",
       "    <tr>\n",
       "      <th>...</th>\n",
       "      <td>...</td>\n",
       "      <td>...</td>\n",
       "      <td>...</td>\n",
       "      <td>...</td>\n",
       "      <td>...</td>\n",
       "      <td>...</td>\n",
       "      <td>...</td>\n",
       "      <td>...</td>\n",
       "      <td>...</td>\n",
       "      <td>...</td>\n",
       "      <td>...</td>\n",
       "      <td>...</td>\n",
       "    </tr>\n",
       "    <tr>\n",
       "      <th>886</th>\n",
       "      <td>887</td>\n",
       "      <td>0</td>\n",
       "      <td>2</td>\n",
       "      <td>Montvila, Rev. Juozas</td>\n",
       "      <td>male</td>\n",
       "      <td>27.0</td>\n",
       "      <td>0</td>\n",
       "      <td>0</td>\n",
       "      <td>211536</td>\n",
       "      <td>13.0000</td>\n",
       "      <td>NaN</td>\n",
       "      <td>S</td>\n",
       "    </tr>\n",
       "    <tr>\n",
       "      <th>887</th>\n",
       "      <td>888</td>\n",
       "      <td>1</td>\n",
       "      <td>1</td>\n",
       "      <td>Graham, Miss. Margaret Edith</td>\n",
       "      <td>female</td>\n",
       "      <td>19.0</td>\n",
       "      <td>0</td>\n",
       "      <td>0</td>\n",
       "      <td>112053</td>\n",
       "      <td>30.0000</td>\n",
       "      <td>B42</td>\n",
       "      <td>S</td>\n",
       "    </tr>\n",
       "    <tr>\n",
       "      <th>888</th>\n",
       "      <td>889</td>\n",
       "      <td>0</td>\n",
       "      <td>3</td>\n",
       "      <td>Johnston, Miss. Catherine Helen \"Carrie\"</td>\n",
       "      <td>female</td>\n",
       "      <td>NaN</td>\n",
       "      <td>1</td>\n",
       "      <td>2</td>\n",
       "      <td>W./C. 6607</td>\n",
       "      <td>23.4500</td>\n",
       "      <td>NaN</td>\n",
       "      <td>S</td>\n",
       "    </tr>\n",
       "    <tr>\n",
       "      <th>889</th>\n",
       "      <td>890</td>\n",
       "      <td>1</td>\n",
       "      <td>1</td>\n",
       "      <td>Behr, Mr. Karl Howell</td>\n",
       "      <td>male</td>\n",
       "      <td>26.0</td>\n",
       "      <td>0</td>\n",
       "      <td>0</td>\n",
       "      <td>111369</td>\n",
       "      <td>30.0000</td>\n",
       "      <td>C148</td>\n",
       "      <td>C</td>\n",
       "    </tr>\n",
       "    <tr>\n",
       "      <th>890</th>\n",
       "      <td>891</td>\n",
       "      <td>0</td>\n",
       "      <td>3</td>\n",
       "      <td>Dooley, Mr. Patrick</td>\n",
       "      <td>male</td>\n",
       "      <td>32.0</td>\n",
       "      <td>0</td>\n",
       "      <td>0</td>\n",
       "      <td>370376</td>\n",
       "      <td>7.7500</td>\n",
       "      <td>NaN</td>\n",
       "      <td>Q</td>\n",
       "    </tr>\n",
       "  </tbody>\n",
       "</table>\n",
       "<p>891 rows × 12 columns</p>\n",
       "</div>"
      ],
      "text/plain": [
       "     PassengerId  Survived  Pclass  \\\n",
       "0              1         0       3   \n",
       "1              2         1       1   \n",
       "2              3         1       3   \n",
       "3              4         1       1   \n",
       "4              5         0       3   \n",
       "..           ...       ...     ...   \n",
       "886          887         0       2   \n",
       "887          888         1       1   \n",
       "888          889         0       3   \n",
       "889          890         1       1   \n",
       "890          891         0       3   \n",
       "\n",
       "                                                  Name     Sex   Age  SibSp  \\\n",
       "0                              Braund, Mr. Owen Harris    male  22.0      1   \n",
       "1    Cumings, Mrs. John Bradley (Florence Briggs Th...  female  38.0      1   \n",
       "2                               Heikkinen, Miss. Laina  female  26.0      0   \n",
       "3         Futrelle, Mrs. Jacques Heath (Lily May Peel)  female  35.0      1   \n",
       "4                             Allen, Mr. William Henry    male  35.0      0   \n",
       "..                                                 ...     ...   ...    ...   \n",
       "886                              Montvila, Rev. Juozas    male  27.0      0   \n",
       "887                       Graham, Miss. Margaret Edith  female  19.0      0   \n",
       "888           Johnston, Miss. Catherine Helen \"Carrie\"  female   NaN      1   \n",
       "889                              Behr, Mr. Karl Howell    male  26.0      0   \n",
       "890                                Dooley, Mr. Patrick    male  32.0      0   \n",
       "\n",
       "     Parch            Ticket     Fare Cabin Embarked  \n",
       "0        0         A/5 21171   7.2500   NaN        S  \n",
       "1        0          PC 17599  71.2833   C85        C  \n",
       "2        0  STON/O2. 3101282   7.9250   NaN        S  \n",
       "3        0            113803  53.1000  C123        S  \n",
       "4        0            373450   8.0500   NaN        S  \n",
       "..     ...               ...      ...   ...      ...  \n",
       "886      0            211536  13.0000   NaN        S  \n",
       "887      0            112053  30.0000   B42        S  \n",
       "888      2        W./C. 6607  23.4500   NaN        S  \n",
       "889      0            111369  30.0000  C148        C  \n",
       "890      0            370376   7.7500   NaN        Q  \n",
       "\n",
       "[891 rows x 12 columns]"
      ]
     },
     "execution_count": 2,
     "metadata": {},
     "output_type": "execute_result"
    }
   ],
   "source": [
    "df = pd.read_csv(\"titanic_dataset.csv\")\n",
    "df"
   ]
  },
  {
   "cell_type": "markdown",
   "id": "c80dfbd1",
   "metadata": {},
   "source": [
    "# 2. Make ‘PassengerId’ as the index column"
   ]
  },
  {
   "cell_type": "code",
   "execution_count": 3,
   "id": "6a3862e9",
   "metadata": {},
   "outputs": [
    {
     "data": {
      "text/html": [
       "<div>\n",
       "<style scoped>\n",
       "    .dataframe tbody tr th:only-of-type {\n",
       "        vertical-align: middle;\n",
       "    }\n",
       "\n",
       "    .dataframe tbody tr th {\n",
       "        vertical-align: top;\n",
       "    }\n",
       "\n",
       "    .dataframe thead th {\n",
       "        text-align: right;\n",
       "    }\n",
       "</style>\n",
       "<table border=\"1\" class=\"dataframe\">\n",
       "  <thead>\n",
       "    <tr style=\"text-align: right;\">\n",
       "      <th></th>\n",
       "      <th>Survived</th>\n",
       "      <th>Pclass</th>\n",
       "      <th>Name</th>\n",
       "      <th>Sex</th>\n",
       "      <th>Age</th>\n",
       "      <th>SibSp</th>\n",
       "      <th>Parch</th>\n",
       "      <th>Ticket</th>\n",
       "      <th>Fare</th>\n",
       "      <th>Cabin</th>\n",
       "      <th>Embarked</th>\n",
       "    </tr>\n",
       "    <tr>\n",
       "      <th>PassengerId</th>\n",
       "      <th></th>\n",
       "      <th></th>\n",
       "      <th></th>\n",
       "      <th></th>\n",
       "      <th></th>\n",
       "      <th></th>\n",
       "      <th></th>\n",
       "      <th></th>\n",
       "      <th></th>\n",
       "      <th></th>\n",
       "      <th></th>\n",
       "    </tr>\n",
       "  </thead>\n",
       "  <tbody>\n",
       "    <tr>\n",
       "      <th>1</th>\n",
       "      <td>0</td>\n",
       "      <td>3</td>\n",
       "      <td>Braund, Mr. Owen Harris</td>\n",
       "      <td>male</td>\n",
       "      <td>22.0</td>\n",
       "      <td>1</td>\n",
       "      <td>0</td>\n",
       "      <td>A/5 21171</td>\n",
       "      <td>7.2500</td>\n",
       "      <td>NaN</td>\n",
       "      <td>S</td>\n",
       "    </tr>\n",
       "    <tr>\n",
       "      <th>2</th>\n",
       "      <td>1</td>\n",
       "      <td>1</td>\n",
       "      <td>Cumings, Mrs. John Bradley (Florence Briggs Th...</td>\n",
       "      <td>female</td>\n",
       "      <td>38.0</td>\n",
       "      <td>1</td>\n",
       "      <td>0</td>\n",
       "      <td>PC 17599</td>\n",
       "      <td>71.2833</td>\n",
       "      <td>C85</td>\n",
       "      <td>C</td>\n",
       "    </tr>\n",
       "    <tr>\n",
       "      <th>3</th>\n",
       "      <td>1</td>\n",
       "      <td>3</td>\n",
       "      <td>Heikkinen, Miss. Laina</td>\n",
       "      <td>female</td>\n",
       "      <td>26.0</td>\n",
       "      <td>0</td>\n",
       "      <td>0</td>\n",
       "      <td>STON/O2. 3101282</td>\n",
       "      <td>7.9250</td>\n",
       "      <td>NaN</td>\n",
       "      <td>S</td>\n",
       "    </tr>\n",
       "    <tr>\n",
       "      <th>4</th>\n",
       "      <td>1</td>\n",
       "      <td>1</td>\n",
       "      <td>Futrelle, Mrs. Jacques Heath (Lily May Peel)</td>\n",
       "      <td>female</td>\n",
       "      <td>35.0</td>\n",
       "      <td>1</td>\n",
       "      <td>0</td>\n",
       "      <td>113803</td>\n",
       "      <td>53.1000</td>\n",
       "      <td>C123</td>\n",
       "      <td>S</td>\n",
       "    </tr>\n",
       "    <tr>\n",
       "      <th>5</th>\n",
       "      <td>0</td>\n",
       "      <td>3</td>\n",
       "      <td>Allen, Mr. William Henry</td>\n",
       "      <td>male</td>\n",
       "      <td>35.0</td>\n",
       "      <td>0</td>\n",
       "      <td>0</td>\n",
       "      <td>373450</td>\n",
       "      <td>8.0500</td>\n",
       "      <td>NaN</td>\n",
       "      <td>S</td>\n",
       "    </tr>\n",
       "  </tbody>\n",
       "</table>\n",
       "</div>"
      ],
      "text/plain": [
       "             Survived  Pclass  \\\n",
       "PassengerId                     \n",
       "1                   0       3   \n",
       "2                   1       1   \n",
       "3                   1       3   \n",
       "4                   1       1   \n",
       "5                   0       3   \n",
       "\n",
       "                                                          Name     Sex   Age  \\\n",
       "PassengerId                                                                    \n",
       "1                                      Braund, Mr. Owen Harris    male  22.0   \n",
       "2            Cumings, Mrs. John Bradley (Florence Briggs Th...  female  38.0   \n",
       "3                                       Heikkinen, Miss. Laina  female  26.0   \n",
       "4                 Futrelle, Mrs. Jacques Heath (Lily May Peel)  female  35.0   \n",
       "5                                     Allen, Mr. William Henry    male  35.0   \n",
       "\n",
       "             SibSp  Parch            Ticket     Fare Cabin Embarked  \n",
       "PassengerId                                                          \n",
       "1                1      0         A/5 21171   7.2500   NaN        S  \n",
       "2                1      0          PC 17599  71.2833   C85        C  \n",
       "3                0      0  STON/O2. 3101282   7.9250   NaN        S  \n",
       "4                1      0            113803  53.1000  C123        S  \n",
       "5                0      0            373450   8.0500   NaN        S  "
      ]
     },
     "execution_count": 3,
     "metadata": {},
     "output_type": "execute_result"
    }
   ],
   "source": [
    "df.set_index(\"PassengerId\", inplace = True)\n",
    "df.head()"
   ]
  },
  {
   "cell_type": "markdown",
   "id": "dd9c99e2",
   "metadata": {},
   "source": [
    "# 3. Check the basic details of the dataset"
   ]
  },
  {
   "cell_type": "code",
   "execution_count": 4,
   "id": "d0797379",
   "metadata": {},
   "outputs": [
    {
     "name": "stdout",
     "output_type": "stream",
     "text": [
      "<class 'pandas.core.frame.DataFrame'>\n",
      "Int64Index: 891 entries, 1 to 891\n",
      "Data columns (total 11 columns):\n",
      " #   Column    Non-Null Count  Dtype  \n",
      "---  ------    --------------  -----  \n",
      " 0   Survived  891 non-null    int64  \n",
      " 1   Pclass    891 non-null    int64  \n",
      " 2   Name      891 non-null    object \n",
      " 3   Sex       891 non-null    object \n",
      " 4   Age       714 non-null    float64\n",
      " 5   SibSp     891 non-null    int64  \n",
      " 6   Parch     891 non-null    int64  \n",
      " 7   Ticket    891 non-null    object \n",
      " 8   Fare      891 non-null    float64\n",
      " 9   Cabin     204 non-null    object \n",
      " 10  Embarked  889 non-null    object \n",
      "dtypes: float64(2), int64(4), object(5)\n",
      "memory usage: 83.5+ KB\n"
     ]
    }
   ],
   "source": [
    "df.info()"
   ]
  },
  {
   "cell_type": "code",
   "execution_count": 5,
   "id": "12806205",
   "metadata": {},
   "outputs": [
    {
     "name": "stdout",
     "output_type": "stream",
     "text": [
      "Index(['Survived', 'Pclass', 'Name', 'Sex', 'Age', 'SibSp', 'Parch', 'Ticket',\n",
      "       'Fare', 'Cabin', 'Embarked'],\n",
      "      dtype='object')\n"
     ]
    }
   ],
   "source": [
    "# To get a list of features in a dataset\n",
    "print(df.columns)"
   ]
  },
  {
   "cell_type": "code",
   "execution_count": 6,
   "id": "6c158cc1",
   "metadata": {},
   "outputs": [
    {
     "data": {
      "text/html": [
       "<div>\n",
       "<style scoped>\n",
       "    .dataframe tbody tr th:only-of-type {\n",
       "        vertical-align: middle;\n",
       "    }\n",
       "\n",
       "    .dataframe tbody tr th {\n",
       "        vertical-align: top;\n",
       "    }\n",
       "\n",
       "    .dataframe thead th {\n",
       "        text-align: right;\n",
       "    }\n",
       "</style>\n",
       "<table border=\"1\" class=\"dataframe\">\n",
       "  <thead>\n",
       "    <tr style=\"text-align: right;\">\n",
       "      <th></th>\n",
       "      <th>Survived</th>\n",
       "      <th>Pclass</th>\n",
       "      <th>Name</th>\n",
       "      <th>Sex</th>\n",
       "      <th>Age</th>\n",
       "      <th>SibSp</th>\n",
       "      <th>Parch</th>\n",
       "      <th>Ticket</th>\n",
       "      <th>Fare</th>\n",
       "      <th>Cabin</th>\n",
       "      <th>Embarked</th>\n",
       "    </tr>\n",
       "    <tr>\n",
       "      <th>PassengerId</th>\n",
       "      <th></th>\n",
       "      <th></th>\n",
       "      <th></th>\n",
       "      <th></th>\n",
       "      <th></th>\n",
       "      <th></th>\n",
       "      <th></th>\n",
       "      <th></th>\n",
       "      <th></th>\n",
       "      <th></th>\n",
       "      <th></th>\n",
       "    </tr>\n",
       "  </thead>\n",
       "  <tbody>\n",
       "    <tr>\n",
       "      <th>167</th>\n",
       "      <td>1</td>\n",
       "      <td>1</td>\n",
       "      <td>Chibnall, Mrs. (Edith Martha Bowerman)</td>\n",
       "      <td>female</td>\n",
       "      <td>NaN</td>\n",
       "      <td>0</td>\n",
       "      <td>1</td>\n",
       "      <td>113505</td>\n",
       "      <td>55.0000</td>\n",
       "      <td>E33</td>\n",
       "      <td>S</td>\n",
       "    </tr>\n",
       "    <tr>\n",
       "      <th>815</th>\n",
       "      <td>0</td>\n",
       "      <td>3</td>\n",
       "      <td>Tomlin, Mr. Ernest Portage</td>\n",
       "      <td>male</td>\n",
       "      <td>30.5</td>\n",
       "      <td>0</td>\n",
       "      <td>0</td>\n",
       "      <td>364499</td>\n",
       "      <td>8.0500</td>\n",
       "      <td>NaN</td>\n",
       "      <td>S</td>\n",
       "    </tr>\n",
       "    <tr>\n",
       "      <th>206</th>\n",
       "      <td>0</td>\n",
       "      <td>3</td>\n",
       "      <td>Strom, Miss. Telma Matilda</td>\n",
       "      <td>female</td>\n",
       "      <td>2.0</td>\n",
       "      <td>0</td>\n",
       "      <td>1</td>\n",
       "      <td>347054</td>\n",
       "      <td>10.4625</td>\n",
       "      <td>G6</td>\n",
       "      <td>S</td>\n",
       "    </tr>\n",
       "    <tr>\n",
       "      <th>109</th>\n",
       "      <td>0</td>\n",
       "      <td>3</td>\n",
       "      <td>Rekic, Mr. Tido</td>\n",
       "      <td>male</td>\n",
       "      <td>38.0</td>\n",
       "      <td>0</td>\n",
       "      <td>0</td>\n",
       "      <td>349249</td>\n",
       "      <td>7.8958</td>\n",
       "      <td>NaN</td>\n",
       "      <td>S</td>\n",
       "    </tr>\n",
       "    <tr>\n",
       "      <th>478</th>\n",
       "      <td>0</td>\n",
       "      <td>3</td>\n",
       "      <td>Braund, Mr. Lewis Richard</td>\n",
       "      <td>male</td>\n",
       "      <td>29.0</td>\n",
       "      <td>1</td>\n",
       "      <td>0</td>\n",
       "      <td>3460</td>\n",
       "      <td>7.0458</td>\n",
       "      <td>NaN</td>\n",
       "      <td>S</td>\n",
       "    </tr>\n",
       "  </tbody>\n",
       "</table>\n",
       "</div>"
      ],
      "text/plain": [
       "             Survived  Pclass                                    Name     Sex  \\\n",
       "PassengerId                                                                     \n",
       "167                 1       1  Chibnall, Mrs. (Edith Martha Bowerman)  female   \n",
       "815                 0       3              Tomlin, Mr. Ernest Portage    male   \n",
       "206                 0       3              Strom, Miss. Telma Matilda  female   \n",
       "109                 0       3                         Rekic, Mr. Tido    male   \n",
       "478                 0       3               Braund, Mr. Lewis Richard    male   \n",
       "\n",
       "              Age  SibSp  Parch  Ticket     Fare Cabin Embarked  \n",
       "PassengerId                                                      \n",
       "167           NaN      0      1  113505  55.0000   E33        S  \n",
       "815          30.5      0      0  364499   8.0500   NaN        S  \n",
       "206           2.0      0      1  347054  10.4625    G6        S  \n",
       "109          38.0      0      0  349249   7.8958   NaN        S  \n",
       "478          29.0      1      0    3460   7.0458   NaN        S  "
      ]
     },
     "execution_count": 6,
     "metadata": {},
     "output_type": "execute_result"
    }
   ],
   "source": [
    "df.sample(5)"
   ]
  },
  {
   "cell_type": "markdown",
   "id": "cdd9f788",
   "metadata": {},
   "source": [
    "*Numerical Features  : Age (Continuous), Fare (Continuous), SibSp (Discrete), Parch (Discrete)\n",
    "\n",
    "*Categorical Features: Survived, Sex, Embarked, Pclass, Cabin, Ticket"
   ]
  },
  {
   "cell_type": "code",
   "execution_count": 7,
   "id": "0ed7390d",
   "metadata": {},
   "outputs": [
    {
     "data": {
      "text/html": [
       "<div>\n",
       "<style scoped>\n",
       "    .dataframe tbody tr th:only-of-type {\n",
       "        vertical-align: middle;\n",
       "    }\n",
       "\n",
       "    .dataframe tbody tr th {\n",
       "        vertical-align: top;\n",
       "    }\n",
       "\n",
       "    .dataframe thead th {\n",
       "        text-align: right;\n",
       "    }\n",
       "</style>\n",
       "<table border=\"1\" class=\"dataframe\">\n",
       "  <thead>\n",
       "    <tr style=\"text-align: right;\">\n",
       "      <th></th>\n",
       "      <th>Age</th>\n",
       "      <th>Fare</th>\n",
       "      <th>Parch</th>\n",
       "      <th>SibSp</th>\n",
       "    </tr>\n",
       "    <tr>\n",
       "      <th>Survived</th>\n",
       "      <th></th>\n",
       "      <th></th>\n",
       "      <th></th>\n",
       "      <th></th>\n",
       "    </tr>\n",
       "  </thead>\n",
       "  <tbody>\n",
       "    <tr>\n",
       "      <th>0</th>\n",
       "      <td>30.626179</td>\n",
       "      <td>22.117887</td>\n",
       "      <td>0.329690</td>\n",
       "      <td>0.553734</td>\n",
       "    </tr>\n",
       "    <tr>\n",
       "      <th>1</th>\n",
       "      <td>28.343690</td>\n",
       "      <td>48.395408</td>\n",
       "      <td>0.464912</td>\n",
       "      <td>0.473684</td>\n",
       "    </tr>\n",
       "  </tbody>\n",
       "</table>\n",
       "</div>"
      ],
      "text/plain": [
       "                Age       Fare     Parch     SibSp\n",
       "Survived                                          \n",
       "0         30.626179  22.117887  0.329690  0.553734\n",
       "1         28.343690  48.395408  0.464912  0.473684"
      ]
     },
     "execution_count": 7,
     "metadata": {},
     "output_type": "execute_result"
    }
   ],
   "source": [
    "# compare survival rate across Age, SibSp, Parch, and Fare \n",
    "pd.pivot_table(df, index = 'Survived', values = ['Age','SibSp','Parch','Fare'])"
   ]
  },
  {
   "cell_type": "code",
   "execution_count": 8,
   "id": "65e4968c",
   "metadata": {},
   "outputs": [
    {
     "name": "stdout",
     "output_type": "stream",
     "text": [
      "Pclass      1   2    3\n",
      "Survived              \n",
      "0          80  97  372\n",
      "1         136  87  119\n",
      "\n",
      "Sex       female  male\n",
      "Survived              \n",
      "0             81   468\n",
      "1            233   109\n",
      "\n",
      "Embarked   C   Q    S\n",
      "Survived             \n",
      "0         75  47  427\n",
      "1         93  30  217\n"
     ]
    }
   ],
   "source": [
    "# Comparing survival and each of these categorical variables \n",
    "print(pd.pivot_table(df, index = 'Survived', columns = 'Pclass', values = 'Ticket' ,aggfunc ='count'))\n",
    "print()\n",
    "print(pd.pivot_table(df, index = 'Survived', columns = 'Sex', values = 'Ticket' ,aggfunc ='count'))\n",
    "print()\n",
    "print(pd.pivot_table(df, index = 'Survived', columns = 'Embarked', values = 'Ticket' ,aggfunc ='count'))"
   ]
  },
  {
   "cell_type": "code",
   "execution_count": 9,
   "id": "04f629b8",
   "metadata": {},
   "outputs": [
    {
     "data": {
      "text/html": [
       "<div>\n",
       "<style scoped>\n",
       "    .dataframe tbody tr th:only-of-type {\n",
       "        vertical-align: middle;\n",
       "    }\n",
       "\n",
       "    .dataframe tbody tr th {\n",
       "        vertical-align: top;\n",
       "    }\n",
       "\n",
       "    .dataframe thead th {\n",
       "        text-align: right;\n",
       "    }\n",
       "</style>\n",
       "<table border=\"1\" class=\"dataframe\">\n",
       "  <thead>\n",
       "    <tr style=\"text-align: right;\">\n",
       "      <th></th>\n",
       "      <th>Survived</th>\n",
       "      <th>Pclass</th>\n",
       "      <th>Name</th>\n",
       "      <th>Sex</th>\n",
       "      <th>Age</th>\n",
       "      <th>SibSp</th>\n",
       "      <th>Parch</th>\n",
       "      <th>Ticket</th>\n",
       "      <th>Fare</th>\n",
       "      <th>Cabin</th>\n",
       "      <th>Embarked</th>\n",
       "    </tr>\n",
       "  </thead>\n",
       "  <tbody>\n",
       "    <tr>\n",
       "      <th>count</th>\n",
       "      <td>891.000000</td>\n",
       "      <td>891.000000</td>\n",
       "      <td>891</td>\n",
       "      <td>891</td>\n",
       "      <td>714.000000</td>\n",
       "      <td>891.000000</td>\n",
       "      <td>891.000000</td>\n",
       "      <td>891</td>\n",
       "      <td>891.000000</td>\n",
       "      <td>204</td>\n",
       "      <td>889</td>\n",
       "    </tr>\n",
       "    <tr>\n",
       "      <th>unique</th>\n",
       "      <td>NaN</td>\n",
       "      <td>NaN</td>\n",
       "      <td>891</td>\n",
       "      <td>2</td>\n",
       "      <td>NaN</td>\n",
       "      <td>NaN</td>\n",
       "      <td>NaN</td>\n",
       "      <td>681</td>\n",
       "      <td>NaN</td>\n",
       "      <td>147</td>\n",
       "      <td>3</td>\n",
       "    </tr>\n",
       "    <tr>\n",
       "      <th>top</th>\n",
       "      <td>NaN</td>\n",
       "      <td>NaN</td>\n",
       "      <td>Braund, Mr. Owen Harris</td>\n",
       "      <td>male</td>\n",
       "      <td>NaN</td>\n",
       "      <td>NaN</td>\n",
       "      <td>NaN</td>\n",
       "      <td>347082</td>\n",
       "      <td>NaN</td>\n",
       "      <td>B96 B98</td>\n",
       "      <td>S</td>\n",
       "    </tr>\n",
       "    <tr>\n",
       "      <th>freq</th>\n",
       "      <td>NaN</td>\n",
       "      <td>NaN</td>\n",
       "      <td>1</td>\n",
       "      <td>577</td>\n",
       "      <td>NaN</td>\n",
       "      <td>NaN</td>\n",
       "      <td>NaN</td>\n",
       "      <td>7</td>\n",
       "      <td>NaN</td>\n",
       "      <td>4</td>\n",
       "      <td>644</td>\n",
       "    </tr>\n",
       "    <tr>\n",
       "      <th>mean</th>\n",
       "      <td>0.383838</td>\n",
       "      <td>2.308642</td>\n",
       "      <td>NaN</td>\n",
       "      <td>NaN</td>\n",
       "      <td>29.699118</td>\n",
       "      <td>0.523008</td>\n",
       "      <td>0.381594</td>\n",
       "      <td>NaN</td>\n",
       "      <td>32.204208</td>\n",
       "      <td>NaN</td>\n",
       "      <td>NaN</td>\n",
       "    </tr>\n",
       "    <tr>\n",
       "      <th>std</th>\n",
       "      <td>0.486592</td>\n",
       "      <td>0.836071</td>\n",
       "      <td>NaN</td>\n",
       "      <td>NaN</td>\n",
       "      <td>14.526497</td>\n",
       "      <td>1.102743</td>\n",
       "      <td>0.806057</td>\n",
       "      <td>NaN</td>\n",
       "      <td>49.693429</td>\n",
       "      <td>NaN</td>\n",
       "      <td>NaN</td>\n",
       "    </tr>\n",
       "    <tr>\n",
       "      <th>min</th>\n",
       "      <td>0.000000</td>\n",
       "      <td>1.000000</td>\n",
       "      <td>NaN</td>\n",
       "      <td>NaN</td>\n",
       "      <td>0.420000</td>\n",
       "      <td>0.000000</td>\n",
       "      <td>0.000000</td>\n",
       "      <td>NaN</td>\n",
       "      <td>0.000000</td>\n",
       "      <td>NaN</td>\n",
       "      <td>NaN</td>\n",
       "    </tr>\n",
       "    <tr>\n",
       "      <th>25%</th>\n",
       "      <td>0.000000</td>\n",
       "      <td>2.000000</td>\n",
       "      <td>NaN</td>\n",
       "      <td>NaN</td>\n",
       "      <td>20.125000</td>\n",
       "      <td>0.000000</td>\n",
       "      <td>0.000000</td>\n",
       "      <td>NaN</td>\n",
       "      <td>7.910400</td>\n",
       "      <td>NaN</td>\n",
       "      <td>NaN</td>\n",
       "    </tr>\n",
       "    <tr>\n",
       "      <th>50%</th>\n",
       "      <td>0.000000</td>\n",
       "      <td>3.000000</td>\n",
       "      <td>NaN</td>\n",
       "      <td>NaN</td>\n",
       "      <td>28.000000</td>\n",
       "      <td>0.000000</td>\n",
       "      <td>0.000000</td>\n",
       "      <td>NaN</td>\n",
       "      <td>14.454200</td>\n",
       "      <td>NaN</td>\n",
       "      <td>NaN</td>\n",
       "    </tr>\n",
       "    <tr>\n",
       "      <th>75%</th>\n",
       "      <td>1.000000</td>\n",
       "      <td>3.000000</td>\n",
       "      <td>NaN</td>\n",
       "      <td>NaN</td>\n",
       "      <td>38.000000</td>\n",
       "      <td>1.000000</td>\n",
       "      <td>0.000000</td>\n",
       "      <td>NaN</td>\n",
       "      <td>31.000000</td>\n",
       "      <td>NaN</td>\n",
       "      <td>NaN</td>\n",
       "    </tr>\n",
       "    <tr>\n",
       "      <th>max</th>\n",
       "      <td>1.000000</td>\n",
       "      <td>3.000000</td>\n",
       "      <td>NaN</td>\n",
       "      <td>NaN</td>\n",
       "      <td>80.000000</td>\n",
       "      <td>8.000000</td>\n",
       "      <td>6.000000</td>\n",
       "      <td>NaN</td>\n",
       "      <td>512.329200</td>\n",
       "      <td>NaN</td>\n",
       "      <td>NaN</td>\n",
       "    </tr>\n",
       "  </tbody>\n",
       "</table>\n",
       "</div>"
      ],
      "text/plain": [
       "          Survived      Pclass                     Name   Sex         Age  \\\n",
       "count   891.000000  891.000000                      891   891  714.000000   \n",
       "unique         NaN         NaN                      891     2         NaN   \n",
       "top            NaN         NaN  Braund, Mr. Owen Harris  male         NaN   \n",
       "freq           NaN         NaN                        1   577         NaN   \n",
       "mean      0.383838    2.308642                      NaN   NaN   29.699118   \n",
       "std       0.486592    0.836071                      NaN   NaN   14.526497   \n",
       "min       0.000000    1.000000                      NaN   NaN    0.420000   \n",
       "25%       0.000000    2.000000                      NaN   NaN   20.125000   \n",
       "50%       0.000000    3.000000                      NaN   NaN   28.000000   \n",
       "75%       1.000000    3.000000                      NaN   NaN   38.000000   \n",
       "max       1.000000    3.000000                      NaN   NaN   80.000000   \n",
       "\n",
       "             SibSp       Parch  Ticket        Fare    Cabin Embarked  \n",
       "count   891.000000  891.000000     891  891.000000      204      889  \n",
       "unique         NaN         NaN     681         NaN      147        3  \n",
       "top            NaN         NaN  347082         NaN  B96 B98        S  \n",
       "freq           NaN         NaN       7         NaN        4      644  \n",
       "mean      0.523008    0.381594     NaN   32.204208      NaN      NaN  \n",
       "std       1.102743    0.806057     NaN   49.693429      NaN      NaN  \n",
       "min       0.000000    0.000000     NaN    0.000000      NaN      NaN  \n",
       "25%       0.000000    0.000000     NaN    7.910400      NaN      NaN  \n",
       "50%       0.000000    0.000000     NaN   14.454200      NaN      NaN  \n",
       "75%       1.000000    0.000000     NaN   31.000000      NaN      NaN  \n",
       "max       8.000000    6.000000     NaN  512.329200      NaN      NaN  "
      ]
     },
     "execution_count": 9,
     "metadata": {},
     "output_type": "execute_result"
    }
   ],
   "source": [
    "df.describe(include=\"all\")"
   ]
  },
  {
   "cell_type": "markdown",
   "id": "c1faf5d3",
   "metadata": {},
   "source": [
    "1. There are a total of 891 passengers.\n",
    "2. The Age feature is missing some of its values. Since it is important for the Survival count, we should probably fill this   gap.\n",
    "3. Also most of the values in Cabin feature is missing. Since there are lot of missing values, we should probably drop this feature."
   ]
  },
  {
   "cell_type": "markdown",
   "id": "2a912b06",
   "metadata": {},
   "source": [
    "# 4. Fill in all the missing values present in all the columns in the dataset"
   ]
  },
  {
   "cell_type": "code",
   "execution_count": 10,
   "id": "ac95d876",
   "metadata": {},
   "outputs": [
    {
     "data": {
      "text/plain": [
       "Survived      0\n",
       "Pclass        0\n",
       "Name          0\n",
       "Sex           0\n",
       "Age         177\n",
       "SibSp         0\n",
       "Parch         0\n",
       "Ticket        0\n",
       "Fare          0\n",
       "Cabin       687\n",
       "Embarked      2\n",
       "dtype: int64"
      ]
     },
     "execution_count": 10,
     "metadata": {},
     "output_type": "execute_result"
    }
   ],
   "source": [
    "df.isna().sum()"
   ]
  },
  {
   "cell_type": "code",
   "execution_count": 11,
   "id": "2613a211",
   "metadata": {},
   "outputs": [],
   "source": [
    "#we'll start off by dropping the Cabin feature since not a lot more useful information can be extracted from it.\n",
    "df = df.drop(['Cabin'], axis = 1)"
   ]
  },
  {
   "cell_type": "code",
   "execution_count": 12,
   "id": "506b58cd",
   "metadata": {},
   "outputs": [],
   "source": [
    "#we can also drop the Ticket feature since it's unlikely to yield any useful information\n",
    "df = df.drop(['Ticket'], axis = 1)"
   ]
  },
  {
   "cell_type": "code",
   "execution_count": 13,
   "id": "2ce8e5d8",
   "metadata": {},
   "outputs": [
    {
     "name": "stdout",
     "output_type": "stream",
     "text": [
      "Number of people embarking in Southampton (S):\n",
      "644\n",
      "Number of people embarking in Cherbourg (C):\n",
      "168\n",
      "Number of people embarking in Queenstown (Q):\n",
      "77\n"
     ]
    }
   ],
   "source": [
    "#now we need to fill in the missing values in the Embarked feature\n",
    "print(\"Number of people embarking in Southampton (S):\")\n",
    "southampton = df[df[\"Embarked\"] == \"S\"].shape[0]\n",
    "print(southampton)\n",
    "\n",
    "print(\"Number of people embarking in Cherbourg (C):\")\n",
    "cherbourg = df[df[\"Embarked\"] == \"C\"].shape[0]\n",
    "print(cherbourg)\n",
    "\n",
    "print(\"Number of people embarking in Queenstown (Q):\")\n",
    "queenstown = df[df[\"Embarked\"] == \"Q\"].shape[0]\n",
    "print(queenstown)"
   ]
  },
  {
   "cell_type": "markdown",
   "id": "27a6b0ed",
   "metadata": {},
   "source": [
    "*So it is clear that majority of people boarded in Southampton."
   ]
  },
  {
   "cell_type": "code",
   "execution_count": 14,
   "id": "13c21fe6",
   "metadata": {},
   "outputs": [],
   "source": [
    "#replacing the missing values in the Embarked feature with S\n",
    "df = df.fillna({\"Embarked\": \"S\"})"
   ]
  },
  {
   "cell_type": "code",
   "execution_count": 15,
   "id": "0d0b7796",
   "metadata": {},
   "outputs": [],
   "source": [
    "# NOw we can fill the Age feature\n",
    "# get average, std, and number of NaN values in dataset(df)\n",
    "df_avg   = df[\"Age\"].mean()\n",
    "df_std   = df[\"Age\"].std()\n",
    "df_count = df[\"Age\"].isnull().sum()\n"
   ]
  },
  {
   "cell_type": "code",
   "execution_count": 16,
   "id": "5144e78e",
   "metadata": {},
   "outputs": [],
   "source": [
    "# generate random numbers between (mean - std) & (mean + std)\n",
    "rand_1 = np.random.randint(df_avg - df_std, df_avg + df_std, size = df_count)"
   ]
  },
  {
   "cell_type": "code",
   "execution_count": 17,
   "id": "a8aaa61b",
   "metadata": {},
   "outputs": [
    {
     "data": {
      "text/plain": [
       "PassengerId\n",
       "1      22\n",
       "2      38\n",
       "3      26\n",
       "4      35\n",
       "5      35\n",
       "       ..\n",
       "886    39\n",
       "887    27\n",
       "888    19\n",
       "890    26\n",
       "891    32\n",
       "Name: Age, Length: 714, dtype: int32"
      ]
     },
     "execution_count": 17,
     "metadata": {},
     "output_type": "execute_result"
    }
   ],
   "source": [
    "#drop all null values, and convert to int\n",
    "df['Age'].dropna().astype(int)"
   ]
  },
  {
   "cell_type": "code",
   "execution_count": 18,
   "id": "44228a01",
   "metadata": {},
   "outputs": [],
   "source": [
    "# fill NaN values in Age column with random values generated\n",
    "df[\"Age\"][np.isnan(df[\"Age\"])] = rand_1\n",
    "# convert from float to int\n",
    "df['Age'] = df['Age'].astype(int)"
   ]
  },
  {
   "cell_type": "code",
   "execution_count": 19,
   "id": "aa24f6a4",
   "metadata": {},
   "outputs": [
    {
     "data": {
      "text/plain": [
       "Survived    0\n",
       "Pclass      0\n",
       "Name        0\n",
       "Sex         0\n",
       "Age         0\n",
       "SibSp       0\n",
       "Parch       0\n",
       "Fare        0\n",
       "Embarked    0\n",
       "dtype: int64"
      ]
     },
     "execution_count": 19,
     "metadata": {},
     "output_type": "execute_result"
    }
   ],
   "source": [
    "df.isnull().sum()"
   ]
  },
  {
   "cell_type": "markdown",
   "id": "d1f30e4a",
   "metadata": {},
   "source": [
    "So we cleared out all the null values in the dataset"
   ]
  },
  {
   "cell_type": "markdown",
   "id": "f406bea0",
   "metadata": {},
   "source": [
    "# 5. Check and handle outliers in at least 3 columns in the dataset"
   ]
  },
  {
   "cell_type": "code",
   "execution_count": 20,
   "id": "d7a0529a",
   "metadata": {},
   "outputs": [
    {
     "data": {
      "text/plain": [
       "Text(0.5, 1.0, 'Box plot of Fare')"
      ]
     },
     "execution_count": 20,
     "metadata": {},
     "output_type": "execute_result"
    },
    {
     "data": {
      "image/png": "[encoded data removed]",
      "text/plain": [
       "<Figure size 432x288 with 1 Axes>"
      ]
     },
     "metadata": {
      "needs_background": "light"
     },
     "output_type": "display_data"
    }
   ],
   "source": [
    "# use a box plot to see if we have outliers\n",
    "plt.boxplot(df['Fare'])\n",
    "plt.title('Box plot of Fare')"
   ]
  },
  {
   "cell_type": "code",
   "execution_count": 21,
   "id": "3239d951",
   "metadata": {},
   "outputs": [
    {
     "name": "stdout",
     "output_type": "stream",
     "text": [
      "7.9104\n",
      "14.4542\n",
      "31.0\n"
     ]
    }
   ],
   "source": [
    "Q1 =np.percentile(df['Fare'], 25, interpolation='midpoint')\n",
    "Q2 =np.percentile(df['Fare'], 50, interpolation='midpoint')\n",
    "Q3 =np.percentile(df['Fare'], 75, interpolation='midpoint')\n",
    "print(Q1)\n",
    "print(Q2)\n",
    "print(Q3)"
   ]
  },
  {
   "cell_type": "code",
   "execution_count": 22,
   "id": "e4350995",
   "metadata": {},
   "outputs": [],
   "source": [
    "IQR = Q3-Q1"
   ]
  },
  {
   "cell_type": "code",
   "execution_count": 23,
   "id": "bd111cb3",
   "metadata": {},
   "outputs": [
    {
     "name": "stdout",
     "output_type": "stream",
     "text": [
      "-26.724\n",
      "65.6344\n"
     ]
    }
   ],
   "source": [
    "low_lim = Q1-1.5*IQR\n",
    "up_lim = Q3+1.5*IQR\n",
    "print(low_lim)\n",
    "print(up_lim)"
   ]
  },
  {
   "cell_type": "code",
   "execution_count": 24,
   "id": "824ab67e",
   "metadata": {},
   "outputs": [],
   "source": [
    "outlier = []\n",
    "for x in df['Fare']:\n",
    "    if((x>up_lim)or (x<low_lim)):\n",
    "        outlier.append(x)"
   ]
  },
  {
   "cell_type": "code",
   "execution_count": 25,
   "id": "66a216b7",
   "metadata": {},
   "outputs": [
    {
     "data": {
      "text/plain": [
       "[71.2833,\n",
       " 263.0,\n",
       " 146.5208,\n",
       " 82.1708,\n",
       " 76.7292,\n",
       " 80.0,\n",
       " 83.475,\n",
       " 73.5,\n",
       " 263.0,\n",
       " 77.2875,\n",
       " 247.5208,\n",
       " 73.5,\n",
       " 77.2875,\n",
       " 79.2,\n",
       " 66.6,\n",
       " 69.55,\n",
       " 69.55,\n",
       " 146.5208,\n",
       " 69.55,\n",
       " 113.275,\n",
       " 76.2917,\n",
       " 90.0,\n",
       " 83.475,\n",
       " 90.0,\n",
       " 79.2,\n",
       " 86.5,\n",
       " 512.3292,\n",
       " 79.65,\n",
       " 153.4625,\n",
       " 135.6333,\n",
       " 77.9583,\n",
       " 78.85,\n",
       " 91.0792,\n",
       " 151.55,\n",
       " 247.5208,\n",
       " 151.55,\n",
       " 110.8833,\n",
       " 108.9,\n",
       " 83.1583,\n",
       " 262.375,\n",
       " 164.8667,\n",
       " 134.5,\n",
       " 69.55,\n",
       " 135.6333,\n",
       " 153.4625,\n",
       " 133.65,\n",
       " 66.6,\n",
       " 134.5,\n",
       " 263.0,\n",
       " 75.25,\n",
       " 69.3,\n",
       " 135.6333,\n",
       " 82.1708,\n",
       " 211.5,\n",
       " 227.525,\n",
       " 73.5,\n",
       " 120.0,\n",
       " 113.275,\n",
       " 90.0,\n",
       " 120.0,\n",
       " 263.0,\n",
       " 81.8583,\n",
       " 89.1042,\n",
       " 91.0792,\n",
       " 90.0,\n",
       " 78.2667,\n",
       " 151.55,\n",
       " 86.5,\n",
       " 108.9,\n",
       " 93.5,\n",
       " 221.7792,\n",
       " 106.425,\n",
       " 71.0,\n",
       " 106.425,\n",
       " 110.8833,\n",
       " 227.525,\n",
       " 79.65,\n",
       " 110.8833,\n",
       " 79.65,\n",
       " 79.2,\n",
       " 78.2667,\n",
       " 153.4625,\n",
       " 77.9583,\n",
       " 69.3,\n",
       " 76.7292,\n",
       " 73.5,\n",
       " 113.275,\n",
       " 133.65,\n",
       " 73.5,\n",
       " 512.3292,\n",
       " 76.7292,\n",
       " 211.3375,\n",
       " 110.8833,\n",
       " 227.525,\n",
       " 151.55,\n",
       " 227.525,\n",
       " 211.3375,\n",
       " 512.3292,\n",
       " 78.85,\n",
       " 262.375,\n",
       " 71.0,\n",
       " 86.5,\n",
       " 120.0,\n",
       " 77.9583,\n",
       " 211.3375,\n",
       " 79.2,\n",
       " 69.55,\n",
       " 120.0,\n",
       " 93.5,\n",
       " 80.0,\n",
       " 83.1583,\n",
       " 69.55,\n",
       " 89.1042,\n",
       " 164.8667,\n",
       " 69.55,\n",
       " 83.1583]"
      ]
     },
     "execution_count": 25,
     "metadata": {},
     "output_type": "execute_result"
    }
   ],
   "source": [
    "outlier"
   ]
  },
  {
   "cell_type": "code",
   "execution_count": 26,
   "id": "0168903d",
   "metadata": {},
   "outputs": [
    {
     "data": {
      "text/plain": [
       "Int64Index([  2,  28,  32,  35,  53,  62,  63,  73,  89, 103,\n",
       "            ...\n",
       "            793, 803, 821, 830, 836, 847, 850, 857, 864, 880],\n",
       "           dtype='int64', name='PassengerId', length=116)"
      ]
     },
     "execution_count": 26,
     "metadata": {},
     "output_type": "execute_result"
    }
   ],
   "source": [
    "ind1 = df['Fare']>up_lim\n",
    "df.loc[ind1].index"
   ]
  },
  {
   "cell_type": "code",
   "execution_count": 27,
   "id": "c9971e63",
   "metadata": {},
   "outputs": [],
   "source": [
    "df.drop([ 2,  28,  32,  35,  53,  62,  63,  73,  89, 103,\n",
    "         793, 803, 821, 830, 836, 847, 850, 857, 864, 880], inplace=True)"
   ]
  },
  {
   "cell_type": "code",
   "execution_count": 28,
   "id": "a9252bda",
   "metadata": {},
   "outputs": [
    {
     "data": {
      "text/plain": [
       "Int64Index([119, 121, 125, 140, 152, 160, 181, 196, 202, 216, 219, 225, 231,\n",
       "            246, 257, 258, 259, 263, 269, 270, 276, 291, 292, 298, 300, 306,\n",
       "            307, 308, 311, 312, 319, 320, 325, 326, 333, 335, 337, 338, 342,\n",
       "            367, 370, 374, 376, 378, 381, 386, 391, 394, 413, 436, 439, 446,\n",
       "            454, 485, 487, 497, 499, 505, 506, 521, 528, 538, 541, 545, 551,\n",
       "            558, 559, 582, 586, 588, 592, 610, 628, 642, 646, 656, 660, 661,\n",
       "            666, 680, 682, 690, 699, 701, 709, 717, 731, 738, 742, 743, 746,\n",
       "            760, 764, 766, 780, 790],\n",
       "           dtype='int64', name='PassengerId')"
      ]
     },
     "execution_count": 28,
     "metadata": {},
     "output_type": "execute_result"
    }
   ],
   "source": [
    "ind1 = df['Fare']>up_lim\n",
    "df.loc[ind1].index    # Lets clear out the remaining values"
   ]
  },
  {
   "cell_type": "code",
   "execution_count": 29,
   "id": "d0dac989",
   "metadata": {},
   "outputs": [],
   "source": [
    "df.drop([119, 121, 125, 140, 152, 160, 181, 196, 202, 216, 219, 225, 231,\n",
    "            246, 257, 258, 259, 263, 269, 270, 276, 291, 292, 298, 300, 306,\n",
    "            307, 308, 311, 312, 319, 320, 325, 326, 333, 335, 337, 338, 342,\n",
    "            367, 370, 374, 376, 378, 381, 386, 391, 394, 413, 436, 439, 446,\n",
    "            454, 485, 487, 497, 499, 505, 506, 521, 528, 538, 541, 545, 551,\n",
    "            558, 559, 582, 586, 588, 592, 610, 628, 642, 646, 656, 660, 661,\n",
    "            666, 680, 682, 690, 699, 701, 709, 717, 731, 738, 742, 743, 746,\n",
    "            760, 764, 766, 780, 790], inplace=True)"
   ]
  },
  {
   "cell_type": "code",
   "execution_count": 30,
   "id": "80de5e8d",
   "metadata": {},
   "outputs": [
    {
     "data": {
      "text/plain": [
       "Text(0.5, 1.0, 'Box plot of Fare')"
      ]
     },
     "execution_count": 30,
     "metadata": {},
     "output_type": "execute_result"
    },
    {
     "data": {
      "image/png": "[encoded data removed]",
      "text/plain": [
       "<Figure size 432x288 with 1 Axes>"
      ]
     },
     "metadata": {
      "needs_background": "light"
     },
     "output_type": "display_data"
    }
   ],
   "source": [
    "plt.boxplot(df['Fare'])\n",
    "plt.title('Box plot of Fare')"
   ]
  },
  {
   "cell_type": "code",
   "execution_count": 31,
   "id": "98a00946",
   "metadata": {},
   "outputs": [
    {
     "data": {
      "text/plain": [
       "Text(0.5, 1.0, 'Box plot of Age')"
      ]
     },
     "execution_count": 31,
     "metadata": {},
     "output_type": "execute_result"
    },
    {
     "data": {
      "image/png": "[encoded data removed]",
      "text/plain": [
       "<Figure size 432x288 with 1 Axes>"
      ]
     },
     "metadata": {
      "needs_background": "light"
     },
     "output_type": "display_data"
    }
   ],
   "source": [
    "# NOw for AGE\n",
    "plt.boxplot(df['Age'])\n",
    "plt.title('Box plot of Age')"
   ]
  },
  {
   "cell_type": "code",
   "execution_count": 32,
   "id": "4abb5719",
   "metadata": {},
   "outputs": [
    {
     "name": "stdout",
     "output_type": "stream",
     "text": [
      "20.0\n",
      "28.0\n",
      "36.0\n"
     ]
    }
   ],
   "source": [
    "Q1 =np.percentile(df['Age'], 25, interpolation='midpoint')\n",
    "Q2 =np.percentile(df['Age'], 50, interpolation='midpoint')\n",
    "Q3 =np.percentile(df['Age'], 75, interpolation='midpoint')\n",
    "print(Q1)\n",
    "print(Q2)\n",
    "print(Q3)"
   ]
  },
  {
   "cell_type": "code",
   "execution_count": 33,
   "id": "3f0eb627",
   "metadata": {},
   "outputs": [],
   "source": [
    "IQR = Q3-Q1"
   ]
  },
  {
   "cell_type": "code",
   "execution_count": 34,
   "id": "15be262c",
   "metadata": {},
   "outputs": [
    {
     "name": "stdout",
     "output_type": "stream",
     "text": [
      "-4.0\n",
      "60.0\n"
     ]
    }
   ],
   "source": [
    "low_lim = Q1-1.5*IQR\n",
    "up_lim = Q3+1.5*IQR\n",
    "print(low_lim)\n",
    "print(up_lim)"
   ]
  },
  {
   "cell_type": "code",
   "execution_count": 35,
   "id": "1019d533",
   "metadata": {},
   "outputs": [],
   "source": [
    "outlier = []\n",
    "for x in df['Age']:\n",
    "    if((x>up_lim)or (x<low_lim)):\n",
    "        outlier.append(x)"
   ]
  },
  {
   "cell_type": "code",
   "execution_count": 36,
   "id": "3e103636",
   "metadata": {},
   "outputs": [
    {
     "data": {
      "text/plain": [
       "[66, 65, 71, 70, 61, 62, 65, 61, 65, 63, 71, 64, 62, 62, 61, 80, 70, 74]"
      ]
     },
     "execution_count": 36,
     "metadata": {},
     "output_type": "execute_result"
    }
   ],
   "source": [
    "outlier"
   ]
  },
  {
   "cell_type": "code",
   "execution_count": 37,
   "id": "d3124f58",
   "metadata": {},
   "outputs": [
    {
     "data": {
      "text/plain": [
       "Int64Index([ 34,  55,  97, 117, 171, 253, 281, 327, 457, 484, 494, 546, 556,\n",
       "            571, 626, 631, 673, 852],\n",
       "           dtype='int64', name='PassengerId')"
      ]
     },
     "execution_count": 37,
     "metadata": {},
     "output_type": "execute_result"
    }
   ],
   "source": [
    "ind1 = df['Age']>up_lim\n",
    "df.loc[ind1].index"
   ]
  },
  {
   "cell_type": "code",
   "execution_count": 38,
   "id": "3b1e1cfc",
   "metadata": {},
   "outputs": [],
   "source": [
    "df.drop([ 34,  55,  97, 117, 171, 253, 281, 327, 457, 484, 494, 546, 556,\n",
    "            571, 626, 631, 673, 852], inplace=True)"
   ]
  },
  {
   "cell_type": "code",
   "execution_count": 39,
   "id": "75670007",
   "metadata": {},
   "outputs": [
    {
     "data": {
      "text/plain": [
       "Text(0.5, 1.0, 'Box plot of Age')"
      ]
     },
     "execution_count": 39,
     "metadata": {},
     "output_type": "execute_result"
    },
    {
     "data": {
      "image/png": "[encoded data removed]",
      "text/plain": [
       "<Figure size 432x288 with 1 Axes>"
      ]
     },
     "metadata": {
      "needs_background": "light"
     },
     "output_type": "display_data"
    }
   ],
   "source": [
    "plt.boxplot(df['Age'])\n",
    "plt.title('Box plot of Age')"
   ]
  },
  {
   "cell_type": "code",
   "execution_count": 40,
   "id": "21ac9870",
   "metadata": {},
   "outputs": [
    {
     "data": {
      "text/plain": [
       "Text(0.5, 1.0, 'Box plot of SibSp')"
      ]
     },
     "execution_count": 40,
     "metadata": {},
     "output_type": "execute_result"
    },
    {
     "data": {
      "image/png": "[encoded data removed]",
      "text/plain": [
       "<Figure size 432x288 with 1 Axes>"
      ]
     },
     "metadata": {
      "needs_background": "light"
     },
     "output_type": "display_data"
    }
   ],
   "source": [
    "# Next Parch\n",
    "plt.boxplot(df['SibSp'])\n",
    "plt.title('Box plot of SibSp')"
   ]
  },
  {
   "cell_type": "code",
   "execution_count": 41,
   "id": "559f8ce2",
   "metadata": {},
   "outputs": [
    {
     "name": "stdout",
     "output_type": "stream",
     "text": [
      "0.0\n",
      "0.0\n",
      "1.0\n"
     ]
    }
   ],
   "source": [
    "Q1 =np.percentile(df['SibSp'], 25, interpolation='midpoint')\n",
    "Q2 =np.percentile(df['SibSp'], 50, interpolation='midpoint')\n",
    "Q3 =np.percentile(df['SibSp'], 75, interpolation='midpoint')\n",
    "print(Q1)\n",
    "print(Q2)\n",
    "print(Q3)"
   ]
  },
  {
   "cell_type": "code",
   "execution_count": 42,
   "id": "a4c6e587",
   "metadata": {},
   "outputs": [],
   "source": [
    "IQR = Q3-Q1"
   ]
  },
  {
   "cell_type": "code",
   "execution_count": 43,
   "id": "83f73eea",
   "metadata": {},
   "outputs": [
    {
     "name": "stdout",
     "output_type": "stream",
     "text": [
      "-1.5\n",
      "2.5\n"
     ]
    }
   ],
   "source": [
    "low_lim = Q1-1.5*IQR\n",
    "up_lim = Q3+1.5*IQR\n",
    "print(low_lim)\n",
    "print(up_lim)"
   ]
  },
  {
   "cell_type": "code",
   "execution_count": 44,
   "id": "0d7abbdd",
   "metadata": {},
   "outputs": [],
   "source": [
    "outlier = []\n",
    "for x in df['SibSp']:\n",
    "    if((x>up_lim)or (x<low_lim)):\n",
    "        outlier.append(x)"
   ]
  },
  {
   "cell_type": "code",
   "execution_count": 45,
   "id": "c3dcba14",
   "metadata": {},
   "outputs": [
    {
     "data": {
      "text/plain": [
       "[3,\n",
       " 4,\n",
       " 3,\n",
       " 4,\n",
       " 5,\n",
       " 3,\n",
       " 4,\n",
       " 5,\n",
       " 3,\n",
       " 4,\n",
       " 4,\n",
       " 4,\n",
       " 3,\n",
       " 4,\n",
       " 3,\n",
       " 4,\n",
       " 4,\n",
       " 4,\n",
       " 4,\n",
       " 3,\n",
       " 5,\n",
       " 3,\n",
       " 5,\n",
       " 3,\n",
       " 4,\n",
       " 4,\n",
       " 3,\n",
       " 3,\n",
       " 5,\n",
       " 4,\n",
       " 3,\n",
       " 4,\n",
       " 4,\n",
       " 3,\n",
       " 4,\n",
       " 4]"
      ]
     },
     "execution_count": 45,
     "metadata": {},
     "output_type": "execute_result"
    }
   ],
   "source": [
    "outlier"
   ]
  },
  {
   "cell_type": "code",
   "execution_count": 46,
   "id": "ea247d0d",
   "metadata": {},
   "outputs": [
    {
     "data": {
      "text/plain": [
       "Int64Index([  8,  17,  25,  51,  60,  64,  69,  72,  86, 120, 165, 172, 177,\n",
       "            183, 230, 234, 262, 267, 279, 375, 387, 410, 481, 486, 542, 543,\n",
       "            635, 643, 684, 687, 727, 788, 814, 820, 825, 851],\n",
       "           dtype='int64', name='PassengerId')"
      ]
     },
     "execution_count": 46,
     "metadata": {},
     "output_type": "execute_result"
    }
   ],
   "source": [
    "ind1 = df['SibSp']>up_lim\n",
    "df.loc[ind1].index"
   ]
  },
  {
   "cell_type": "code",
   "execution_count": 47,
   "id": "d1627c7d",
   "metadata": {},
   "outputs": [],
   "source": [
    "df.drop([ 8,  17,  25,  51,  60,  64,  69,  72,  86, 120, 165, 172, 177,\n",
    "            183, 230, 234, 262, 267, 279, 375, 387, 410, 481, 486, 542, 543,\n",
    "            635, 643, 684, 687, 727, 788, 814, 820, 825, 851], inplace=True)"
   ]
  },
  {
   "cell_type": "code",
   "execution_count": 48,
   "id": "c22b35bf",
   "metadata": {},
   "outputs": [
    {
     "data": {
      "text/plain": [
       "Text(0.5, 1.0, 'Box plot of SibSp')"
      ]
     },
     "execution_count": 48,
     "metadata": {},
     "output_type": "execute_result"
    },
    {
     "data": {
      "image/png": "[encoded data removed]",
      "text/plain": [
       "<Figure size 432x288 with 1 Axes>"
      ]
     },
     "metadata": {
      "needs_background": "light"
     },
     "output_type": "display_data"
    }
   ],
   "source": [
    "plt.boxplot(df['SibSp'])\n",
    "plt.title('Box plot of SibSp')"
   ]
  },
  {
   "cell_type": "markdown",
   "id": "59a2452f",
   "metadata": {},
   "source": [
    "# 6. Do min max scaling on the feature set (Take ‘Survived’ as target)"
   ]
  },
  {
   "cell_type": "code",
   "execution_count": 49,
   "id": "2991dfbd",
   "metadata": {},
   "outputs": [
    {
     "data": {
      "text/plain": [
       "Index(['Survived', 'Pclass', 'Name', 'Sex', 'Age', 'SibSp', 'Parch', 'Fare',\n",
       "       'Embarked'],\n",
       "      dtype='object')"
      ]
     },
     "execution_count": 49,
     "metadata": {},
     "output_type": "execute_result"
    }
   ],
   "source": [
    "df.columns"
   ]
  },
  {
   "cell_type": "code",
   "execution_count": 55,
   "id": "f557b129",
   "metadata": {},
   "outputs": [],
   "source": [
    "df = df.drop(['Name'], axis = 1)"
   ]
  },
  {
   "cell_type": "code",
   "execution_count": 56,
   "id": "e146c5a0",
   "metadata": {},
   "outputs": [
    {
     "data": {
      "text/plain": [
       "3"
      ]
     },
     "execution_count": 56,
     "metadata": {},
     "output_type": "execute_result"
    }
   ],
   "source": [
    "df.Embarked.nunique()"
   ]
  },
  {
   "cell_type": "code",
   "execution_count": 57,
   "id": "651a0b51",
   "metadata": {},
   "outputs": [],
   "source": [
    "# Encoding\n",
    "df = pd.get_dummies(df)"
   ]
  },
  {
   "cell_type": "code",
   "execution_count": 59,
   "id": "f25d3781",
   "metadata": {},
   "outputs": [
    {
     "data": {
      "text/html": [
       "<div>\n",
       "<style scoped>\n",
       "    .dataframe tbody tr th:only-of-type {\n",
       "        vertical-align: middle;\n",
       "    }\n",
       "\n",
       "    .dataframe tbody tr th {\n",
       "        vertical-align: top;\n",
       "    }\n",
       "\n",
       "    .dataframe thead th {\n",
       "        text-align: right;\n",
       "    }\n",
       "</style>\n",
       "<table border=\"1\" class=\"dataframe\">\n",
       "  <thead>\n",
       "    <tr style=\"text-align: right;\">\n",
       "      <th></th>\n",
       "      <th>Survived</th>\n",
       "      <th>Pclass</th>\n",
       "      <th>Age</th>\n",
       "      <th>SibSp</th>\n",
       "      <th>Parch</th>\n",
       "      <th>Fare</th>\n",
       "      <th>Sex_female</th>\n",
       "      <th>Sex_male</th>\n",
       "      <th>Embarked_C</th>\n",
       "      <th>Embarked_Q</th>\n",
       "      <th>Embarked_S</th>\n",
       "    </tr>\n",
       "    <tr>\n",
       "      <th>PassengerId</th>\n",
       "      <th></th>\n",
       "      <th></th>\n",
       "      <th></th>\n",
       "      <th></th>\n",
       "      <th></th>\n",
       "      <th></th>\n",
       "      <th></th>\n",
       "      <th></th>\n",
       "      <th></th>\n",
       "      <th></th>\n",
       "      <th></th>\n",
       "    </tr>\n",
       "  </thead>\n",
       "  <tbody>\n",
       "    <tr>\n",
       "      <th>1</th>\n",
       "      <td>0</td>\n",
       "      <td>3</td>\n",
       "      <td>22</td>\n",
       "      <td>1</td>\n",
       "      <td>0</td>\n",
       "      <td>7.2500</td>\n",
       "      <td>0</td>\n",
       "      <td>1</td>\n",
       "      <td>0</td>\n",
       "      <td>0</td>\n",
       "      <td>1</td>\n",
       "    </tr>\n",
       "    <tr>\n",
       "      <th>3</th>\n",
       "      <td>1</td>\n",
       "      <td>3</td>\n",
       "      <td>26</td>\n",
       "      <td>0</td>\n",
       "      <td>0</td>\n",
       "      <td>7.9250</td>\n",
       "      <td>1</td>\n",
       "      <td>0</td>\n",
       "      <td>0</td>\n",
       "      <td>0</td>\n",
       "      <td>1</td>\n",
       "    </tr>\n",
       "    <tr>\n",
       "      <th>4</th>\n",
       "      <td>1</td>\n",
       "      <td>1</td>\n",
       "      <td>35</td>\n",
       "      <td>1</td>\n",
       "      <td>0</td>\n",
       "      <td>53.1000</td>\n",
       "      <td>1</td>\n",
       "      <td>0</td>\n",
       "      <td>0</td>\n",
       "      <td>0</td>\n",
       "      <td>1</td>\n",
       "    </tr>\n",
       "    <tr>\n",
       "      <th>5</th>\n",
       "      <td>0</td>\n",
       "      <td>3</td>\n",
       "      <td>35</td>\n",
       "      <td>0</td>\n",
       "      <td>0</td>\n",
       "      <td>8.0500</td>\n",
       "      <td>0</td>\n",
       "      <td>1</td>\n",
       "      <td>0</td>\n",
       "      <td>0</td>\n",
       "      <td>1</td>\n",
       "    </tr>\n",
       "    <tr>\n",
       "      <th>6</th>\n",
       "      <td>0</td>\n",
       "      <td>3</td>\n",
       "      <td>25</td>\n",
       "      <td>0</td>\n",
       "      <td>0</td>\n",
       "      <td>8.4583</td>\n",
       "      <td>0</td>\n",
       "      <td>1</td>\n",
       "      <td>0</td>\n",
       "      <td>1</td>\n",
       "      <td>0</td>\n",
       "    </tr>\n",
       "  </tbody>\n",
       "</table>\n",
       "</div>"
      ],
      "text/plain": [
       "             Survived  Pclass  Age  SibSp  Parch     Fare  Sex_female  \\\n",
       "PassengerId                                                             \n",
       "1                   0       3   22      1      0   7.2500           0   \n",
       "3                   1       3   26      0      0   7.9250           1   \n",
       "4                   1       1   35      1      0  53.1000           1   \n",
       "5                   0       3   35      0      0   8.0500           0   \n",
       "6                   0       3   25      0      0   8.4583           0   \n",
       "\n",
       "             Sex_male  Embarked_C  Embarked_Q  Embarked_S  \n",
       "PassengerId                                                \n",
       "1                   1           0           0           1  \n",
       "3                   0           0           0           1  \n",
       "4                   0           0           0           1  \n",
       "5                   1           0           0           1  \n",
       "6                   1           0           1           0  "
      ]
     },
     "execution_count": 59,
     "metadata": {},
     "output_type": "execute_result"
    }
   ],
   "source": [
    "df.head()"
   ]
  },
  {
   "cell_type": "code",
   "execution_count": 60,
   "id": "ebd8603c",
   "metadata": {},
   "outputs": [],
   "source": [
    "y = df['Survived']\n",
    "x = df.drop('Survived', axis=1)"
   ]
  },
  {
   "cell_type": "code",
   "execution_count": 61,
   "id": "70c96d7f",
   "metadata": {},
   "outputs": [],
   "source": [
    "from sklearn.model_selection import train_test_split\n",
    "from sklearn import linear_model\n",
    "X_train, X_test, y_train, y_test = train_test_split(x, y, random_state=42, test_size=0.2)\n",
    "lr = linear_model.LinearRegression()\n",
    "model = lr.fit(X_train, y_train)\n",
    "predictions = model.predict(X_test)"
   ]
  },
  {
   "cell_type": "code",
   "execution_count": 62,
   "id": "d417dba6",
   "metadata": {},
   "outputs": [
    {
     "name": "stdout",
     "output_type": "stream",
     "text": [
      "MSE is 0.16118112920566274\n",
      "R squared value is : 0.32005753580476337\n"
     ]
    }
   ],
   "source": [
    "from sklearn.metrics import mean_squared_error\n",
    "print('MSE is', mean_squared_error(y_test,predictions))\n",
    "from sklearn.metrics import r2_score\n",
    "print('R squared value is :', r2_score(y_test,predictions))"
   ]
  },
  {
   "cell_type": "code",
   "execution_count": 64,
   "id": "e4e6f8bd",
   "metadata": {},
   "outputs": [
    {
     "data": {
      "text/html": [
       "<div>\n",
       "<style scoped>\n",
       "    .dataframe tbody tr th:only-of-type {\n",
       "        vertical-align: middle;\n",
       "    }\n",
       "\n",
       "    .dataframe tbody tr th {\n",
       "        vertical-align: top;\n",
       "    }\n",
       "\n",
       "    .dataframe thead th {\n",
       "        text-align: right;\n",
       "    }\n",
       "</style>\n",
       "<table border=\"1\" class=\"dataframe\">\n",
       "  <thead>\n",
       "    <tr style=\"text-align: right;\">\n",
       "      <th></th>\n",
       "      <th>Pclass</th>\n",
       "      <th>Age</th>\n",
       "      <th>SibSp</th>\n",
       "      <th>Parch</th>\n",
       "      <th>Fare</th>\n",
       "      <th>Sex_female</th>\n",
       "      <th>Sex_male</th>\n",
       "      <th>Embarked_C</th>\n",
       "      <th>Embarked_Q</th>\n",
       "      <th>Embarked_S</th>\n",
       "    </tr>\n",
       "  </thead>\n",
       "  <tbody>\n",
       "    <tr>\n",
       "      <th>count</th>\n",
       "      <td>721.000000</td>\n",
       "      <td>721.000000</td>\n",
       "      <td>721.000000</td>\n",
       "      <td>721.000000</td>\n",
       "      <td>721.000000</td>\n",
       "      <td>721.000000</td>\n",
       "      <td>721.000000</td>\n",
       "      <td>721.000000</td>\n",
       "      <td>721.000000</td>\n",
       "      <td>721.000000</td>\n",
       "    </tr>\n",
       "    <tr>\n",
       "      <th>mean</th>\n",
       "      <td>2.474341</td>\n",
       "      <td>28.780860</td>\n",
       "      <td>0.281553</td>\n",
       "      <td>0.292649</td>\n",
       "      <td>17.021456</td>\n",
       "      <td>0.314840</td>\n",
       "      <td>0.685160</td>\n",
       "      <td>0.156727</td>\n",
       "      <td>0.095700</td>\n",
       "      <td>0.747573</td>\n",
       "    </tr>\n",
       "    <tr>\n",
       "      <th>std</th>\n",
       "      <td>0.730083</td>\n",
       "      <td>11.608269</td>\n",
       "      <td>0.510779</td>\n",
       "      <td>0.761259</td>\n",
       "      <td>13.336601</td>\n",
       "      <td>0.464775</td>\n",
       "      <td>0.464775</td>\n",
       "      <td>0.363795</td>\n",
       "      <td>0.294384</td>\n",
       "      <td>0.434707</td>\n",
       "    </tr>\n",
       "    <tr>\n",
       "      <th>min</th>\n",
       "      <td>1.000000</td>\n",
       "      <td>0.000000</td>\n",
       "      <td>0.000000</td>\n",
       "      <td>0.000000</td>\n",
       "      <td>0.000000</td>\n",
       "      <td>0.000000</td>\n",
       "      <td>0.000000</td>\n",
       "      <td>0.000000</td>\n",
       "      <td>0.000000</td>\n",
       "      <td>0.000000</td>\n",
       "    </tr>\n",
       "    <tr>\n",
       "      <th>25%</th>\n",
       "      <td>2.000000</td>\n",
       "      <td>21.000000</td>\n",
       "      <td>0.000000</td>\n",
       "      <td>0.000000</td>\n",
       "      <td>7.887500</td>\n",
       "      <td>0.000000</td>\n",
       "      <td>0.000000</td>\n",
       "      <td>0.000000</td>\n",
       "      <td>0.000000</td>\n",
       "      <td>0.000000</td>\n",
       "    </tr>\n",
       "    <tr>\n",
       "      <th>50%</th>\n",
       "      <td>3.000000</td>\n",
       "      <td>28.000000</td>\n",
       "      <td>0.000000</td>\n",
       "      <td>0.000000</td>\n",
       "      <td>11.500000</td>\n",
       "      <td>0.000000</td>\n",
       "      <td>1.000000</td>\n",
       "      <td>0.000000</td>\n",
       "      <td>0.000000</td>\n",
       "      <td>1.000000</td>\n",
       "    </tr>\n",
       "    <tr>\n",
       "      <th>75%</th>\n",
       "      <td>3.000000</td>\n",
       "      <td>36.000000</td>\n",
       "      <td>1.000000</td>\n",
       "      <td>0.000000</td>\n",
       "      <td>24.150000</td>\n",
       "      <td>1.000000</td>\n",
       "      <td>1.000000</td>\n",
       "      <td>0.000000</td>\n",
       "      <td>0.000000</td>\n",
       "      <td>1.000000</td>\n",
       "    </tr>\n",
       "    <tr>\n",
       "      <th>max</th>\n",
       "      <td>3.000000</td>\n",
       "      <td>60.000000</td>\n",
       "      <td>2.000000</td>\n",
       "      <td>6.000000</td>\n",
       "      <td>65.000000</td>\n",
       "      <td>1.000000</td>\n",
       "      <td>1.000000</td>\n",
       "      <td>1.000000</td>\n",
       "      <td>1.000000</td>\n",
       "      <td>1.000000</td>\n",
       "    </tr>\n",
       "  </tbody>\n",
       "</table>\n",
       "</div>"
      ],
      "text/plain": [
       "           Pclass         Age       SibSp       Parch        Fare  Sex_female  \\\n",
       "count  721.000000  721.000000  721.000000  721.000000  721.000000  721.000000   \n",
       "mean     2.474341   28.780860    0.281553    0.292649   17.021456    0.314840   \n",
       "std      0.730083   11.608269    0.510779    0.761259   13.336601    0.464775   \n",
       "min      1.000000    0.000000    0.000000    0.000000    0.000000    0.000000   \n",
       "25%      2.000000   21.000000    0.000000    0.000000    7.887500    0.000000   \n",
       "50%      3.000000   28.000000    0.000000    0.000000   11.500000    0.000000   \n",
       "75%      3.000000   36.000000    1.000000    0.000000   24.150000    1.000000   \n",
       "max      3.000000   60.000000    2.000000    6.000000   65.000000    1.000000   \n",
       "\n",
       "         Sex_male  Embarked_C  Embarked_Q  Embarked_S  \n",
       "count  721.000000  721.000000  721.000000  721.000000  \n",
       "mean     0.685160    0.156727    0.095700    0.747573  \n",
       "std      0.464775    0.363795    0.294384    0.434707  \n",
       "min      0.000000    0.000000    0.000000    0.000000  \n",
       "25%      0.000000    0.000000    0.000000    0.000000  \n",
       "50%      1.000000    0.000000    0.000000    1.000000  \n",
       "75%      1.000000    0.000000    0.000000    1.000000  \n",
       "max      1.000000    1.000000    1.000000    1.000000  "
      ]
     },
     "execution_count": 64,
     "metadata": {},
     "output_type": "execute_result"
    }
   ],
   "source": [
    "# MIN MAx\n",
    "x = df.drop('Survived', axis=1)\n",
    "x.describe()"
   ]
  },
  {
   "cell_type": "code",
   "execution_count": 65,
   "id": "b19cb026",
   "metadata": {},
   "outputs": [],
   "source": [
    "from sklearn import preprocessing\n",
    "min_max = preprocessing.MinMaxScaler(feature_range = (0,1))"
   ]
  },
  {
   "cell_type": "code",
   "execution_count": 66,
   "id": "b7bfd494",
   "metadata": {},
   "outputs": [
    {
     "data": {
      "text/html": [
       "<div>\n",
       "<style scoped>\n",
       "    .dataframe tbody tr th:only-of-type {\n",
       "        vertical-align: middle;\n",
       "    }\n",
       "\n",
       "    .dataframe tbody tr th {\n",
       "        vertical-align: top;\n",
       "    }\n",
       "\n",
       "    .dataframe thead th {\n",
       "        text-align: right;\n",
       "    }\n",
       "</style>\n",
       "<table border=\"1\" class=\"dataframe\">\n",
       "  <thead>\n",
       "    <tr style=\"text-align: right;\">\n",
       "      <th></th>\n",
       "      <th>0</th>\n",
       "      <th>1</th>\n",
       "      <th>2</th>\n",
       "      <th>3</th>\n",
       "      <th>4</th>\n",
       "      <th>5</th>\n",
       "      <th>6</th>\n",
       "      <th>7</th>\n",
       "      <th>8</th>\n",
       "      <th>9</th>\n",
       "    </tr>\n",
       "  </thead>\n",
       "  <tbody>\n",
       "    <tr>\n",
       "      <th>count</th>\n",
       "      <td>721.000000</td>\n",
       "      <td>721.000000</td>\n",
       "      <td>721.000000</td>\n",
       "      <td>721.000000</td>\n",
       "      <td>721.000000</td>\n",
       "      <td>721.000000</td>\n",
       "      <td>721.000000</td>\n",
       "      <td>721.000000</td>\n",
       "      <td>721.000000</td>\n",
       "      <td>721.000000</td>\n",
       "    </tr>\n",
       "    <tr>\n",
       "      <th>mean</th>\n",
       "      <td>0.737171</td>\n",
       "      <td>0.479681</td>\n",
       "      <td>0.140777</td>\n",
       "      <td>0.048775</td>\n",
       "      <td>0.261869</td>\n",
       "      <td>0.314840</td>\n",
       "      <td>0.685160</td>\n",
       "      <td>0.156727</td>\n",
       "      <td>0.095700</td>\n",
       "      <td>0.747573</td>\n",
       "    </tr>\n",
       "    <tr>\n",
       "      <th>std</th>\n",
       "      <td>0.365042</td>\n",
       "      <td>0.193471</td>\n",
       "      <td>0.255390</td>\n",
       "      <td>0.126877</td>\n",
       "      <td>0.205178</td>\n",
       "      <td>0.464775</td>\n",
       "      <td>0.464775</td>\n",
       "      <td>0.363795</td>\n",
       "      <td>0.294384</td>\n",
       "      <td>0.434707</td>\n",
       "    </tr>\n",
       "    <tr>\n",
       "      <th>min</th>\n",
       "      <td>0.000000</td>\n",
       "      <td>0.000000</td>\n",
       "      <td>0.000000</td>\n",
       "      <td>0.000000</td>\n",
       "      <td>0.000000</td>\n",
       "      <td>0.000000</td>\n",
       "      <td>0.000000</td>\n",
       "      <td>0.000000</td>\n",
       "      <td>0.000000</td>\n",
       "      <td>0.000000</td>\n",
       "    </tr>\n",
       "    <tr>\n",
       "      <th>25%</th>\n",
       "      <td>0.500000</td>\n",
       "      <td>0.350000</td>\n",
       "      <td>0.000000</td>\n",
       "      <td>0.000000</td>\n",
       "      <td>0.121346</td>\n",
       "      <td>0.000000</td>\n",
       "      <td>0.000000</td>\n",
       "      <td>0.000000</td>\n",
       "      <td>0.000000</td>\n",
       "      <td>0.000000</td>\n",
       "    </tr>\n",
       "    <tr>\n",
       "      <th>50%</th>\n",
       "      <td>1.000000</td>\n",
       "      <td>0.466667</td>\n",
       "      <td>0.000000</td>\n",
       "      <td>0.000000</td>\n",
       "      <td>0.176923</td>\n",
       "      <td>0.000000</td>\n",
       "      <td>1.000000</td>\n",
       "      <td>0.000000</td>\n",
       "      <td>0.000000</td>\n",
       "      <td>1.000000</td>\n",
       "    </tr>\n",
       "    <tr>\n",
       "      <th>75%</th>\n",
       "      <td>1.000000</td>\n",
       "      <td>0.600000</td>\n",
       "      <td>0.500000</td>\n",
       "      <td>0.000000</td>\n",
       "      <td>0.371538</td>\n",
       "      <td>1.000000</td>\n",
       "      <td>1.000000</td>\n",
       "      <td>0.000000</td>\n",
       "      <td>0.000000</td>\n",
       "      <td>1.000000</td>\n",
       "    </tr>\n",
       "    <tr>\n",
       "      <th>max</th>\n",
       "      <td>1.000000</td>\n",
       "      <td>1.000000</td>\n",
       "      <td>1.000000</td>\n",
       "      <td>1.000000</td>\n",
       "      <td>1.000000</td>\n",
       "      <td>1.000000</td>\n",
       "      <td>1.000000</td>\n",
       "      <td>1.000000</td>\n",
       "      <td>1.000000</td>\n",
       "      <td>1.000000</td>\n",
       "    </tr>\n",
       "  </tbody>\n",
       "</table>\n",
       "</div>"
      ],
      "text/plain": [
       "                0           1           2           3           4           5  \\\n",
       "count  721.000000  721.000000  721.000000  721.000000  721.000000  721.000000   \n",
       "mean     0.737171    0.479681    0.140777    0.048775    0.261869    0.314840   \n",
       "std      0.365042    0.193471    0.255390    0.126877    0.205178    0.464775   \n",
       "min      0.000000    0.000000    0.000000    0.000000    0.000000    0.000000   \n",
       "25%      0.500000    0.350000    0.000000    0.000000    0.121346    0.000000   \n",
       "50%      1.000000    0.466667    0.000000    0.000000    0.176923    0.000000   \n",
       "75%      1.000000    0.600000    0.500000    0.000000    0.371538    1.000000   \n",
       "max      1.000000    1.000000    1.000000    1.000000    1.000000    1.000000   \n",
       "\n",
       "                6           7           8           9  \n",
       "count  721.000000  721.000000  721.000000  721.000000  \n",
       "mean     0.685160    0.156727    0.095700    0.747573  \n",
       "std      0.464775    0.363795    0.294384    0.434707  \n",
       "min      0.000000    0.000000    0.000000    0.000000  \n",
       "25%      0.000000    0.000000    0.000000    0.000000  \n",
       "50%      1.000000    0.000000    0.000000    1.000000  \n",
       "75%      1.000000    0.000000    0.000000    1.000000  \n",
       "max      1.000000    1.000000    1.000000    1.000000  "
      ]
     },
     "execution_count": 66,
     "metadata": {},
     "output_type": "execute_result"
    }
   ],
   "source": [
    "x = min_max.fit_transform(x)\n",
    "x = pd.DataFrame(x)\n",
    "x.describe()"
   ]
  },
  {
   "cell_type": "code",
   "execution_count": 67,
   "id": "0cec89aa",
   "metadata": {},
   "outputs": [
    {
     "name": "stdout",
     "output_type": "stream",
     "text": [
      "MSE is 0.1618085137728987\n",
      "R squared value is : 0.31741091451139736\n"
     ]
    }
   ],
   "source": [
    "X_train, X_test, y_train, y_test = train_test_split(x, y, random_state=42, test_size=0.2)\n",
    "lr = linear_model.LinearRegression()\n",
    "model = lr.fit(X_train, y_train)\n",
    "predictions = model.predict(X_test)\n",
    "print('MSE is', mean_squared_error(y_test,predictions))\n",
    "print('R squared value is :', r2_score(y_test,predictions))"
   ]
  },
  {
   "cell_type": "code",
   "execution_count": null,
   "id": "0acb4613",
   "metadata": {},
   "outputs": [],
   "source": []
  }
 ],
 "metadata": {
  "kernelspec": {
   "display_name": "Python 3 (ipykernel)",
   "language": "python",
   "name": "python3"
  },
  "language_info": {
   "codemirror_mode": {
    "name": "ipython",
    "version": 3
   },
   "file_extension": ".py",
   "mimetype": "text/x-python",
   "name": "python",
   "nbconvert_exporter": "python",
   "pygments_lexer": "ipython3",
   "version": "3.8.12"
  }
 },
 "nbformat": 4,
 "nbformat_minor": 5
}
